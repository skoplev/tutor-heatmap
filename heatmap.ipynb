{
 "cells": [
  {
   "cell_type": "markdown",
   "metadata": {},
   "source": [
    "# Basic heatmaps in R\n",
    "Using heatmap.3, which extends heatmap.2, which extends heatmap of the {stats} library in base R."
   ]
  },
  {
   "cell_type": "markdown",
   "metadata": {},
   "source": [
    "## Installations and setup of the R kernel"
   ]
  },
  {
   "cell_type": "code",
   "execution_count": 1,
   "metadata": {
    "collapsed": false
   },
   "outputs": [],
   "source": [
    "# Install packages\n",
    "# install.packages(c(\"RColorBrewer\", \"devtools\"))"
   ]
  },
  {
   "cell_type": "code",
   "execution_count": 2,
   "metadata": {
    "collapsed": false
   },
   "outputs": [
    {
     "name": "stderr",
     "output_type": "stream",
     "text": [
      "SHA-1 hash of file is e0a2ae0c0a4c2ddaefb2b3e9bb4551c430535a98\n"
     ]
    }
   ],
   "source": [
    "# Load libraries\n",
    "library(RColorBrewer)  # for better color choices\n",
    "library(devtools)  # for installing heatmap.3\n",
    "# Load heatmap.3\n",
    "source_url(\"https://raw.githubusercontent.com/obigriffith/biostar-tutorials/master/Heatmaps/heatmap.3.R\")\n"
   ]
  },
  {
   "cell_type": "markdown",
   "metadata": {},
   "source": [
    "## Generate expression matrix\n",
    "First simulates a gene expression matrix. For real data, load the data into a matrix format."
   ]
  },
  {
   "cell_type": "code",
   "execution_count": 3,
   "metadata": {
    "collapsed": false
   },
   "outputs": [],
   "source": [
    "# Simulate gene expression data with provided dimensions\n",
    "ngenes = 100  # number of genes\n",
    "nsamples = 5  # number of samples\n",
    "\n",
    "# Generate data from indepedent Gaussian distributions\n",
    "emat = matrix(rnorm(ngenes * nsamples, mean=1, sd=2),\n",
    "              nrow=ngenes,\n",
    "              ncol=nsamples)\n",
    "# Name rows and columns for easier retrieval (and less possibilities for errors in mapping gene names)\n",
    "rownames(emat) = 1:ngenes\n",
    "colnames(emat) = 1:nsamples"
   ]
  },
  {
   "cell_type": "code",
   "execution_count": 4,
   "metadata": {
    "collapsed": false
   },
   "outputs": [
    {
     "data": {
      "text/html": [
       "<table>\n",
       "<thead><tr><th></th><th scope=col>1</th><th scope=col>2</th><th scope=col>3</th><th scope=col>4</th><th scope=col>5</th></tr></thead>\n",
       "<tbody>\n",
       "\t<tr><th scope=row>1</th><td>0.6274856 </td><td>1.3332037 </td><td>3.2743064 </td><td>-0.2261868</td><td> 2.202739 </td></tr>\n",
       "\t<tr><th scope=row>2</th><td>2.7938419 </td><td>2.5885398 </td><td>1.9393628 </td><td> 4.2745629</td><td> 2.690643 </td></tr>\n",
       "\t<tr><th scope=row>3</th><td>0.9063636 </td><td>2.8708759 </td><td>0.1560136 </td><td> 2.0776361</td><td>-3.244162 </td></tr>\n",
       "\t<tr><th scope=row>4</th><td>3.5494484 </td><td>1.4701185 </td><td>2.8660052 </td><td>-1.1664534</td><td> 2.017630 </td></tr>\n",
       "\t<tr><th scope=row>5</th><td>1.0892540 </td><td>1.4356480 </td><td>1.3032643 </td><td>-2.6456048</td><td> 2.015112 </td></tr>\n",
       "\t<tr><th scope=row>6</th><td>2.2364123 </td><td>0.4953685 </td><td>6.2249764 </td><td> 1.5011725</td><td> 1.492908 </td></tr>\n",
       "</tbody>\n",
       "</table>\n"
      ],
      "text/latex": [
       "\\begin{tabular}{r|lllll}\n",
       "  & 1 & 2 & 3 & 4 & 5\\\\\n",
       "\\hline\n",
       "\t1 & 0.6274856  & 1.3332037  & 3.2743064  & -0.2261868 &  2.202739 \\\\\n",
       "\t2 & 2.7938419  & 2.5885398  & 1.9393628  &  4.2745629 &  2.690643 \\\\\n",
       "\t3 & 0.9063636  & 2.8708759  & 0.1560136  &  2.0776361 & -3.244162 \\\\\n",
       "\t4 & 3.5494484  & 1.4701185  & 2.8660052  & -1.1664534 &  2.017630 \\\\\n",
       "\t5 & 1.0892540  & 1.4356480  & 1.3032643  & -2.6456048 &  2.015112 \\\\\n",
       "\t6 & 2.2364123  & 0.4953685  & 6.2249764  &  1.5011725 &  1.492908 \\\\\n",
       "\\end{tabular}\n"
      ],
      "text/markdown": [
       "\n",
       "| <!--/--> | 1 | 2 | 3 | 4 | 5 | \n",
       "|---|---|---|---|---|---|\n",
       "| 1 | 0.6274856  | 1.3332037  | 3.2743064  | -0.2261868 |  2.202739  | \n",
       "| 2 | 2.7938419  | 2.5885398  | 1.9393628  |  4.2745629 |  2.690643  | \n",
       "| 3 | 0.9063636  | 2.8708759  | 0.1560136  |  2.0776361 | -3.244162  | \n",
       "| 4 | 3.5494484  | 1.4701185  | 2.8660052  | -1.1664534 |  2.017630  | \n",
       "| 5 | 1.0892540  | 1.4356480  | 1.3032643  | -2.6456048 |  2.015112  | \n",
       "| 6 | 2.2364123  | 0.4953685  | 6.2249764  |  1.5011725 |  1.492908  | \n",
       "\n",
       "\n"
      ],
      "text/plain": [
       "  1         2         3         4          5        \n",
       "1 0.6274856 1.3332037 3.2743064 -0.2261868  2.202739\n",
       "2 2.7938419 2.5885398 1.9393628  4.2745629  2.690643\n",
       "3 0.9063636 2.8708759 0.1560136  2.0776361 -3.244162\n",
       "4 3.5494484 1.4701185 2.8660052 -1.1664534  2.017630\n",
       "5 1.0892540 1.4356480 1.3032643 -2.6456048  2.015112\n",
       "6 2.2364123 0.4953685 6.2249764  1.5011725  1.492908"
      ]
     },
     "metadata": {},
     "output_type": "display_data"
    }
   ],
   "source": [
    "# Print parts of the matrix\n",
    "head(emat)"
   ]
  },
  {
   "cell_type": "markdown",
   "metadata": {},
   "source": [
    "## Standardization\n",
    "This step is particularly important if your data has a different dynamic range for each gene, which is typically the case."
   ]
  },
  {
   "cell_type": "code",
   "execution_count": 5,
   "metadata": {
    "collapsed": true
   },
   "outputs": [],
   "source": [
    "# Standardize each row (z-scores)\n",
    "emat_scaled = t(scale(t(emat)))  # scale operates on columns"
   ]
  },
  {
   "cell_type": "code",
   "execution_count": 6,
   "metadata": {
    "collapsed": false
   },
   "outputs": [
    {
     "data": {
      "text/html": [
       "<table>\n",
       "<thead><tr><th></th><th scope=col>1</th><th scope=col>2</th><th scope=col>3</th><th scope=col>4</th><th scope=col>5</th></tr></thead>\n",
       "<tbody>\n",
       "\t<tr><th scope=row>1</th><td>-0.5993059 </td><td>-0.08024780</td><td>1.3474401  </td><td>-1.2271850 </td><td> 0.5592986 </td></tr>\n",
       "\t<tr><th scope=row>4</th><td> 0.9943188 </td><td>-0.15296396</td><td>0.6172249  </td><td>-1.6077084 </td><td> 0.1491286 </td></tr>\n",
       "\t<tr><th scope=row>5</th><td> 0.2407211 </td><td> 0.42613539</td><td>0.3552744  </td><td>-1.7584359 </td><td> 0.7363051 </td></tr>\n",
       "\t<tr><th scope=row>12</th><td> 1.2553385 </td><td>-1.21334820</td><td>0.3917181  </td><td> 0.3766174 </td><td>-0.8103257 </td></tr>\n",
       "\t<tr><th scope=row>65</th><td> 0.5640990 </td><td> 1.08727092</td><td>0.4690024  </td><td>-1.1860465 </td><td>-0.9343258 </td></tr>\n",
       "\t<tr><th scope=row>88</th><td> 0.3488199 </td><td>-0.07536135</td><td>0.9322165  </td><td> 0.4641187 </td><td>-1.6697938 </td></tr>\n",
       "</tbody>\n",
       "</table>\n"
      ],
      "text/latex": [
       "\\begin{tabular}{r|lllll}\n",
       "  & 1 & 2 & 3 & 4 & 5\\\\\n",
       "\\hline\n",
       "\t1 & -0.5993059  & -0.08024780 & 1.3474401   & -1.2271850  &  0.5592986 \\\\\n",
       "\t4 &  0.9943188  & -0.15296396 & 0.6172249   & -1.6077084  &  0.1491286 \\\\\n",
       "\t5 &  0.2407211  &  0.42613539 & 0.3552744   & -1.7584359  &  0.7363051 \\\\\n",
       "\t12 &  1.2553385  & -1.21334820 & 0.3917181   &  0.3766174  & -0.8103257 \\\\\n",
       "\t65 &  0.5640990  &  1.08727092 & 0.4690024   & -1.1860465  & -0.9343258 \\\\\n",
       "\t88 &  0.3488199  & -0.07536135 & 0.9322165   &  0.4641187  & -1.6697938 \\\\\n",
       "\\end{tabular}\n"
      ],
      "text/markdown": [
       "\n",
       "| <!--/--> | 1 | 2 | 3 | 4 | 5 | \n",
       "|---|---|---|---|---|---|\n",
       "| 1 | -0.5993059  | -0.08024780 | 1.3474401   | -1.2271850  |  0.5592986  | \n",
       "| 4 |  0.9943188  | -0.15296396 | 0.6172249   | -1.6077084  |  0.1491286  | \n",
       "| 5 |  0.2407211  |  0.42613539 | 0.3552744   | -1.7584359  |  0.7363051  | \n",
       "| 12 |  1.2553385  | -1.21334820 | 0.3917181   |  0.3766174  | -0.8103257  | \n",
       "| 65 |  0.5640990  |  1.08727092 | 0.4690024   | -1.1860465  | -0.9343258  | \n",
       "| 88 |  0.3488199  | -0.07536135 | 0.9322165   |  0.4641187  | -1.6697938  | \n",
       "\n",
       "\n"
      ],
      "text/plain": [
       "   1          2           3         4          5         \n",
       "1  -0.5993059 -0.08024780 1.3474401 -1.2271850  0.5592986\n",
       "4   0.9943188 -0.15296396 0.6172249 -1.6077084  0.1491286\n",
       "5   0.2407211  0.42613539 0.3552744 -1.7584359  0.7363051\n",
       "12  1.2553385 -1.21334820 0.3917181  0.3766174 -0.8103257\n",
       "65  0.5640990  1.08727092 0.4690024 -1.1860465 -0.9343258\n",
       "88  0.3488199 -0.07536135 0.9322165  0.4641187 -1.6697938"
      ]
     },
     "metadata": {},
     "output_type": "display_data"
    }
   ],
   "source": [
    "# Select subset of standardized expression matrix\n",
    "genes_include = c(\"1\", \"12\", \"65\", \"88\", \"4\", \"5\")  # genes to include\n",
    "emat_scaled_subset = emat_scaled[rownames(emat_scaled) %in% genes_include, ] \n",
    "emat_scaled_subset"
   ]
  },
  {
   "cell_type": "markdown",
   "metadata": {},
   "source": [
    "## Plot biclustered heatmap\n",
    "Including sample class colors. For additional options see https://raw.githubusercontent.com/obigriffith/biostar-tutorials/master/Heatmaps/heatmap.3.R\n",
    "or, with similar options, \n",
    "https://www.rdocumentation.org/packages/gplots/versions/3.0.1/topics/heatmap.2\n",
    "### Ploting device\n",
    "Here the default plot device is used. I recommend plotting to a support vector file (such as a .pdf file). In this way, it is easier to replicate figures."
   ]
  },
  {
   "cell_type": "code",
   "execution_count": 7,
   "metadata": {
    "collapsed": true
   },
   "outputs": [],
   "source": [
    "# Setup plot\n",
    "# pdf(\"heatmap.pdf\", height=5, width=4)  # plot to pdf file, uncomment\n",
    "options(repr.plot.height=5, repr.plot.width=4)  # options for adjusting plot size, only for Jupyter\n",
    "ncolor_grad = 100  # number of colors in gradient\n",
    "\n",
    "# Sample two types of colors for each sample\n",
    "rlab = matrix(sample(brewer.pal(9, \"Set1\"), nsamples * 2, replace=TRUE),\n",
    "              ncol=2)\n",
    "colnames(rlab) = c(\"Annotation 1\", \"Annotation 2\")"
   ]
  },
  {
   "cell_type": "code",
   "execution_count": 8,
   "metadata": {
    "collapsed": false
   },
   "outputs": [
    {
     "data": {
      "text/html": [
       "<table>\n",
       "<thead><tr><th scope=col>Annotation 1</th><th scope=col>Annotation 2</th></tr></thead>\n",
       "<tbody>\n",
       "\t<tr><td>#FFFF33</td><td>#FF7F00</td></tr>\n",
       "\t<tr><td>#A65628</td><td>#A65628</td></tr>\n",
       "\t<tr><td>#984EA3</td><td>#999999</td></tr>\n",
       "\t<tr><td>#999999</td><td>#FF7F00</td></tr>\n",
       "\t<tr><td>#E41A1C</td><td>#377EB8</td></tr>\n",
       "</tbody>\n",
       "</table>\n"
      ],
      "text/latex": [
       "\\begin{tabular}{ll}\n",
       " Annotation 1 & Annotation 2\\\\\n",
       "\\hline\n",
       "\t \\#FFFF33 & \\#FF7F00\\\\\n",
       "\t \\#A65628 & \\#A65628\\\\\n",
       "\t \\#984EA3 & \\#999999\\\\\n",
       "\t \\#999999 & \\#FF7F00\\\\\n",
       "\t \\#E41A1C & \\#377EB8\\\\\n",
       "\\end{tabular}\n"
      ],
      "text/markdown": [
       "\n",
       "Annotation 1 | Annotation 2 | \n",
       "|---|---|---|---|---|\n",
       "| #FFFF33 | #FF7F00 | \n",
       "| #A65628 | #A65628 | \n",
       "| #984EA3 | #999999 | \n",
       "| #999999 | #FF7F00 | \n",
       "| #E41A1C | #377EB8 | \n",
       "\n",
       "\n"
      ],
      "text/plain": [
       "     Annotation 1 Annotation 2\n",
       "[1,] #FFFF33      #FF7F00     \n",
       "[2,] #A65628      #A65628     \n",
       "[3,] #984EA3      #999999     \n",
       "[4,] #999999      #FF7F00     \n",
       "[5,] #E41A1C      #377EB8     "
      ]
     },
     "metadata": {},
     "output_type": "display_data"
    }
   ],
   "source": [
    "# View sample color matrix\n",
    "rlab"
   ]
  },
  {
   "cell_type": "code",
   "execution_count": 9,
   "metadata": {
    "collapsed": false
   },
   "outputs": [
    {
     "name": "stderr",
     "output_type": "stream",
     "text": [
      "Warning message in image.default(z = matrix(z, ncol = 1), col = col, breaks = tmpbreaks, :\n",
      "“unsorted 'breaks' will be sorted before use”"
     ]
    },
    {
     "data": {
      "image/png": "[encoded data removed]",
      "text/plain": [
       "Plot with title “Color Key”"
      ]
     },
     "metadata": {},
     "output_type": "display_data"
    }
   ],
   "source": [
    "heatmap.3(emat_scaled_subset,\n",
    "    col=colorRampPalette(rev(brewer.pal(9, \"RdBu\")))(ncolor_grad),\n",
    "    cexRow=1.0,\n",
    "    KeyValueName=\"z-score\",\n",
    "    breaks=seq(-2, 2, length.out=ncolor_grad + 1),  # cap of coloring \n",
    "    ColSideColors=rlab,\n",
    "    ColSideColorsSize=2\n",
    ")\n",
    "# dev.off()  # close pdf connection, for writing to files only"
   ]
  }
 ],
 "metadata": {
  "anaconda-cloud": {},
  "kernelspec": {
   "display_name": "R 3.3",
   "language": "R",
   "name": "ir33"
  },
  "language_info": {
   "codemirror_mode": "r",
   "file_extension": ".r",
   "mimetype": "text/x-r-source",
   "name": "R",
   "pygments_lexer": "r",
   "version": "3.3.1"
  }
 },
 "nbformat": 4,
 "nbformat_minor": 1
}
